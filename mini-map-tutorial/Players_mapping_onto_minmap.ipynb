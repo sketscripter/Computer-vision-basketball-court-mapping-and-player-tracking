{
  "nbformat": 4,
  "nbformat_minor": 0,
  "metadata": {
    "colab": {
      "name": "Players_mapping_onto_minmap.ipynb",
      "provenance": [],
      "collapsed_sections": [],
      "toc_visible": true
    },
    "kernelspec": {
      "name": "python3",
      "display_name": "Python 3"
    },
    "accelerator": "GPU"
  },
  "cells": [
    {
      "cell_type": "markdown",
      "metadata": {
        "id": "QHnVupBBn9eR",
        "colab_type": "text"
      },
      "source": [
        "# Creating a basketball mini map using homography transformations\n",
        "\n",
        "Author Stephan Janssen (sja@devoxx.com)\n",
        "\n",
        "See also related [article on LinkedIn](https://www.linkedin.com/pulse/journey-towards-creating-basketball-mini-map-stephan-janssen/) and result on [YouTube](https://www.youtube.com/watch?v=tpavRDeDlTI).\n",
        "\n",
        "We still need to identify the players per team which can be achieved using colour detection, that's not too difficult.\n",
        "\n",
        "Improvements or suggestions are always welcome!"
      ]
    },
    {
      "cell_type": "markdown",
      "metadata": {
        "id": "vM54r6jlKTII",
        "colab_type": "text"
      },
      "source": [
        "# Install detectron2"
      ]
    },
    {
      "cell_type": "code",
      "metadata": {
        "id": "9_FzH13EjseR",
        "colab_type": "code",
        "colab": {}
      },
      "source": [
        "# install dependencies\n",
        "!pip install -U torch torchvision cython\n",
        "!pip install -U 'git+https://github.com/facebookresearch/fvcore.git' 'git+https://github.com/cocodataset/cocoapi.git#subdirectory=PythonAPI'\n",
        "import torch, torchvision\n",
        "torch.__version__"
      ],
      "execution_count": 0,
      "outputs": []
    },
    {
      "cell_type": "code",
      "metadata": {
        "id": "b-i4hmGYk1dL",
        "colab_type": "code",
        "colab": {}
      },
      "source": [
        "!git clone https://github.com/facebookresearch/detectron2 detectron2_repo\n",
        "!pip install -e detectron2_repo"
      ],
      "execution_count": 0,
      "outputs": []
    },
    {
      "cell_type": "code",
      "metadata": {
        "id": "ZyAvNCJMmvFF",
        "colab_type": "code",
        "colab": {}
      },
      "source": [
        "# You may need to restart your runtime prior to this, to let your installation take effect\n",
        "\n",
        "# Some basic setup\n",
        "\n",
        "# Setup detectron2 logger\n",
        "import detectron2\n",
        "from detectron2.utils.logger import setup_logger\n",
        "setup_logger()\n",
        "\n",
        "# import some common libraries\n",
        "import numpy as np\n",
        "import cv2\n",
        "import random\n",
        "from google.colab.patches import cv2_imshow\n",
        "\n",
        "# import some common detectron2 utilities\n",
        "from detectron2.engine import DefaultPredictor\n",
        "from detectron2.config import get_cfg\n",
        "from detectron2.utils.visualizer import Visualizer\n",
        "from detectron2.data import MetadataCatalog"
      ],
      "execution_count": 0,
      "outputs": []
    },
    {
      "cell_type": "markdown",
      "metadata": {
        "id": "Vk4gID50K03a",
        "colab_type": "text"
      },
      "source": [
        "# Run a pre-trained detectron2 model"
      ]
    },
    {
      "cell_type": "markdown",
      "metadata": {
        "id": "JgKyUL4pngvE",
        "colab_type": "text"
      },
      "source": [
        "We first download a random image from the COCO dataset:"
      ]
    },
    {
      "cell_type": "code",
      "metadata": {
        "id": "dq9GY37ml1kr",
        "colab_type": "code",
        "colab": {}
      },
      "source": [
        "!wget https://basketball-ml.s3-eu-west-1.amazonaws.com/3DVideoFrame.jpg -O input.jpg\n",
        "im = cv2.imread(\"./input.jpg\")\n",
        "cv2_imshow(im)"
      ],
      "execution_count": 0,
      "outputs": []
    },
    {
      "cell_type": "markdown",
      "metadata": {
        "id": "uM1thbN-ntjI",
        "colab_type": "text"
      },
      "source": [
        "Then, we create a detectron2 config and a detectron2 `DefaultPredictor` to run inference on this image."
      ]
    },
    {
      "cell_type": "code",
      "metadata": {
        "id": "HUjkwRsOn1O0",
        "colab_type": "code",
        "colab": {}
      },
      "source": [
        "cfg = get_cfg()\n",
        "\n",
        "cfg.merge_from_file(\"./detectron2_repo/configs/COCO-InstanceSegmentation/mask_rcnn_R_50_FPN_3x.yaml\")\n",
        "\n",
        "cfg.MODEL.ROI_HEADS.SCORE_THRESH_TEST = 0.5  # set threshold for this model\n",
        "\n",
        "cfg.MODEL.WEIGHTS = \"detectron2://COCO-InstanceSegmentation/mask_rcnn_R_50_FPN_3x/137849600/model_final_f10217.pkl\"\n",
        "\n",
        "predictor = DefaultPredictor(cfg)\n",
        "\n",
        "players_output = predictor(im)"
      ],
      "execution_count": 0,
      "outputs": []
    },
    {
      "cell_type": "code",
      "metadata": {
        "id": "7d3KxiHO_0gb",
        "colab_type": "code",
        "colab": {}
      },
      "source": [
        "# look at the outputs. See https://detectron2.readthedocs.io/tutorials/models.html#model-output-format for specification\n",
        "instances = players_output[\"instances\"]\n",
        "print(instances)\n",
        "pred_boxes = instances.get(\"pred_boxes\")\n",
        "pred_classes = instances.get(\"pred_classes\")\n",
        "print(pred_boxes)\n",
        "print(pred_classes)"
      ],
      "execution_count": 0,
      "outputs": []
    },
    {
      "cell_type": "code",
      "metadata": {
        "id": "8IRGo8d0qkgR",
        "colab_type": "code",
        "colab": {}
      },
      "source": [
        "# We can use `Visualizer` to draw the predictions on the image.\n",
        "v = Visualizer(im[:, :, ::-1], MetadataCatalog.get(cfg.DATASETS.TRAIN[0]), scale=1.0)\n",
        "v = v.draw_instance_predictions(players_output[\"instances\"].to(\"cpu\"))\n",
        "cv2_imshow(v.get_image()[:, :, ::-1])"
      ],
      "execution_count": 0,
      "outputs": []
    },
    {
      "cell_type": "code",
      "metadata": {
        "id": "23boIV_N0YPV",
        "colab_type": "code",
        "colab": {}
      },
      "source": [
        "# Four corners of the 3D court \n",
        "# Start top-left corner and go anti-clock wise\n",
        "src_pts = np.array([\n",
        "        [0,711],\n",
        "        [954,821],\n",
        "        [1919,762],\n",
        "        [1919,631],\n",
        "        [1493,525],\n",
        "        [493,505],\n",
        "        [4,608]\n",
        "    ])   \n",
        "\n",
        "im_poly = im.copy()\n",
        "\n",
        "# cv2.fillPoly(img_src, [src_pts], 255)\n",
        "cv2.polylines(im_poly, [src_pts], isClosed=True, color=[255,0,0], thickness=2)\n",
        "\n",
        "cv2_imshow(im_poly)"
      ],
      "execution_count": 0,
      "outputs": []
    },
    {
      "cell_type": "code",
      "metadata": {
        "id": "xZ6vI2ix3pHU",
        "colab_type": "code",
        "colab": {}
      },
      "source": [
        "# Use the boxes info from the tensor prediction result\n",
        "#\n",
        "# x1,y1 ------\n",
        "# |          |\n",
        "# |          |\n",
        "# |          |\n",
        "# --------x2,y2\n",
        "#\n",
        "from shapely.geometry import Point, Polygon\n",
        "\n",
        "def drawPlayers(im, pred_boxes, showResult=False):\n",
        "  color = [255, 0, 0]   \n",
        "  thickness = 1\n",
        "  radius = 1\n",
        "\n",
        "  i  = 0\n",
        "  for box in pred_boxes:\n",
        "    \n",
        "    # Include only class Person\n",
        "    if pred_classes[i] == 0:  \n",
        "        \n",
        "      x1 = int(box[0])\n",
        "      y1 = int(box[1])\n",
        "      x2 = int(box[2])\n",
        "      y2 = int(box[3])\n",
        "\n",
        "      xc = x1 + int((x2 - x1)/2)\n",
        "      player_pos1 = (xc - 1, y2)\n",
        "      player_pos2 = (xc + 1, y2 + 1)\n",
        "\n",
        "      court = Polygon(src_pts)\n",
        "\n",
        "      # Draw only players that are within the basketball court\n",
        "      if Point(player_pos1).within(court):\n",
        "        if showResult:\n",
        "          print(\"[% 3d, % 3d]\" %(xc, y2))\n",
        "\n",
        "        cv2.rectangle(im, player_pos1, player_pos2, color, thickness)\n",
        "        i = i + 1            \n",
        "\n",
        "  if showResult:\n",
        "    cv2_imshow(im)\n",
        "\n",
        "\n",
        "drawPlayers(im, pred_boxes, True)"
      ],
      "execution_count": 0,
      "outputs": []
    },
    {
      "cell_type": "code",
      "metadata": {
        "id": "DJSiuip0lEWs",
        "colab_type": "code",
        "colab": {}
      },
      "source": [
        "!wget https://basketball-ml.s3-eu-west-1.amazonaws.com/2DCourt1920x1080.jpg -O court.jpg"
      ],
      "execution_count": 0,
      "outputs": []
    },
    {
      "cell_type": "code",
      "metadata": {
        "id": "2-Tv6rqY0ogS",
        "colab_type": "code",
        "colab": {}
      },
      "source": [
        "img_dst = cv2.imread('./court.jpg')\n",
        "\n",
        "# Four corners of the court + mid-court circle point in destination image \n",
        "# Start top-left corner and go anti-clock wise + mid-court circle point\n",
        "dst_pts = np.array([\n",
        "      [144,  1060],  # LEFT BOTTOM\n",
        "      [969,  1065],  # MIDDLE BOTTOM\n",
        "      [1769, 1063],  # RIGHT BOTTOM\n",
        "      [1885, 875],   # TOP BOTTOM RIGHT  (4 o'clock)\n",
        "      [1882,  49],   # TOP RIGHT\n",
        "      [50,    43],   # TOP LEFT\n",
        "      [50,    871]   # TOP - BOTTOM LEFT (7 o'clock)\n",
        "    ])   \n",
        "\n",
        "cv2.polylines(img_dst, [dst_pts], isClosed=True, color=[255,0,0], thickness=2)\n",
        "cv2_imshow(img_dst)"
      ],
      "execution_count": 0,
      "outputs": []
    },
    {
      "cell_type": "code",
      "metadata": {
        "id": "if5Yfyx41IHT",
        "colab_type": "code",
        "colab": {}
      },
      "source": [
        "def homographyTransform(im, showResult=False):\n",
        "\n",
        "  # Calculate Homography\n",
        "  h, status = cv2.findHomography(src_pts, dst_pts)\n",
        "  img_out = cv2.warpPerspective(im, h, (img_dst.shape[1], img_dst.shape[0]))\n",
        "  \n",
        "  if showResult:\n",
        "    cv2_imshow(img_out)\n",
        "\n",
        "  return img_out  \n",
        "\n",
        "# Try out\n",
        "img_out = homographyTransform(im, True)  "
      ],
      "execution_count": 0,
      "outputs": []
    },
    {
      "cell_type": "code",
      "metadata": {
        "id": "IWa5jy6J1K57",
        "colab_type": "code",
        "colab": {}
      },
      "source": [
        "def getPlayersMask(im):\n",
        "  lower_range = np.array([255,0,0])                         # Set the Lower range value of blue in BGR\n",
        "  upper_range = np.array([255,155,155])                     # Set the Upper range value of blue in BGR\n",
        "  mask = cv2.inRange(im, lower_range, upper_range)     # Create a mask with range\n",
        "  result = cv2.bitwise_and(im, img_out, mask = mask)   # Performing bitwise and operation with mask in img variable\n",
        "  # cv2_imshow(result)                              \n",
        "\n",
        "  return cv2.inRange(result, lower_range, upper_range)  \n",
        "  \n",
        "# Try out  \n",
        "mask = getPlayersMask(img_out)    \n",
        "cv2_imshow(mask)"
      ],
      "execution_count": 0,
      "outputs": []
    },
    {
      "cell_type": "code",
      "metadata": {
        "id": "POu6dBZJ3tRN",
        "colab_type": "code",
        "colab": {}
      },
      "source": [
        "def drawPlayersOnCourt(im, coord, color, radius=10):\n",
        "  for pos in coord:\n",
        "    center_coordinates = (pos[0], pos[1])\n",
        "    cv2.circle(im, center_coordinates, radius, color, thickness=-1) \n",
        "\n",
        "  return im"
      ],
      "execution_count": 0,
      "outputs": []
    },
    {
      "cell_type": "markdown",
      "metadata": {
        "id": "DU8gAjemUPUe",
        "colab_type": "text"
      },
      "source": [
        "Now lets create a mini-map based on a 30 seconds basketball game."
      ]
    },
    {
      "cell_type": "code",
      "metadata": {
        "id": "T_ztqm1zUUBg",
        "colab_type": "code",
        "colab": {}
      },
      "source": [
        "!wget https://basketball-ml.s3-eu-west-1.amazonaws.com/mini-map-game-input.mp4 -O video.mp4"
      ],
      "execution_count": 0,
      "outputs": []
    },
    {
      "cell_type": "code",
      "metadata": {
        "id": "nlPNGWozWaM3",
        "colab_type": "code",
        "colab": {}
      },
      "source": [
        "# Draft method to draw lines between history player positions to show trail\n",
        "def drawCoordinateLines(result, pts, currentFrame, player):\n",
        "  \n",
        "  for i in np.arange(1, len(pts)):\n",
        "    \n",
        "    # if either of the tracked points are None, ignore them\n",
        "    if pts[i - 1] is None or pts[i] is None:\n",
        "      continue\n",
        "\n",
        "    thickness = int(np.sqrt(30 / float(i + 1)) * 2.5)\n",
        "    print(\"player=%s\" %player)\n",
        "    x1 = pts[i - 1][0][0]\n",
        "    x2 = pts[i - 1][0][1]\n",
        "    print(\"x1=%d, x2=%d\" %(x1, x2))\n",
        "    y1 = pts[i][0][0]\n",
        "    y2 = pts[i][0][1]\n",
        "    print(\"y1=%d, y2=%d\" %(y1, y2))\n",
        "    print(\" ---------------------- \")\n",
        "    cv2.line(result, (x1, x2), (y1, y2), red_color, thickness)\n",
        "\n",
        "  return result"
      ],
      "execution_count": 0,
      "outputs": []
    },
    {
      "cell_type": "code",
      "metadata": {
        "id": "8azuMFjDUhX0",
        "colab_type": "code",
        "colab": {}
      },
      "source": [
        "import time\n",
        "import progressbar\n",
        "from time import sleep\n",
        "from collections import deque\n",
        "from detectron2.utils.visualizer import ColorMode\n",
        "from detectron2.utils.visualizer import GenericMask\n",
        "import imutils\n",
        "\n",
        "vs = cv2.VideoCapture(\"./video.mp4\")\n",
        "totalFrames = int(vs.get(cv2.CAP_PROP_FRAME_COUNT))\n",
        "\n",
        "grabbed = True\n",
        "currentFrame = 0\n",
        "start = time.time()\n",
        "writer = None\n",
        "\n",
        "bar = progressbar.ProgressBar(maxval=totalFrames, \\\n",
        "      widgets=[progressbar.Bar('=', '[', ']'), ' ', progressbar.Percentage()])\n",
        "\n",
        "bar.start()\n",
        "\n",
        "court_img = cv2.imread('./court.jpg')\n",
        "\n",
        "blue_color = (255,0,0)\n",
        "red_color = (0,0,255)\n",
        "\n",
        "# loop over frames from the video file stream (207)\n",
        "while grabbed:     \n",
        "  \n",
        "  # read the next frame from the file\n",
        "  (grabbed, frame) = vs.read()\n",
        "\n",
        "  if writer is None:\n",
        "    fourcc = cv2.VideoWriter_fourcc(*\"mp4v\")\n",
        "    writer = cv2.VideoWriter(\"mini-map-output.mp4\", fourcc, 24, (court_img.shape[1], court_img.shape[0]), True)\n",
        "\n",
        "  if grabbed:\n",
        "    # print(currentFrame)\n",
        "  \n",
        "    # Get player positions\n",
        "    outputs = predictor(frame)  \n",
        "    instances = outputs[\"instances\"].to(\"cpu\")\n",
        "    boxes = instances.get(\"pred_boxes\")\n",
        "\n",
        "    court = court_img.copy()\n",
        "\n",
        "    # Draw players on video frame\n",
        "    drawPlayers(frame, boxes, False)\n",
        "    \n",
        "    img_out = homographyTransform(frame, False)\n",
        "    # cv2_imshow(img_out)\n",
        "\n",
        "    mask = getPlayersMask(img_out)\n",
        "    \n",
        "    # cv2_imshow(mask)\n",
        "\n",
        "    # Get the contours from the players \"dots\" so we can reduce the coordinates\n",
        "    # to the number of players on the court.\n",
        "    cnts = cv2.findContours(mask.copy(), cv2.RETR_EXTERNAL, cv2.CHAIN_APPROX_SIMPLE)\n",
        "    cnts = imutils.grab_contours(cnts)\n",
        "  \n",
        "    if cnts is not None:      \n",
        "      for cnt in cnts:\n",
        "        result = drawPlayersOnCourt(court, cnt[0], blue_color)\n",
        "                               \n",
        "    writer.write(result)\n",
        "\n",
        "    currentFrame += 1\n",
        "    bar.update(currentFrame)\n",
        "  \n",
        "  else:\n",
        "      grabbed = False\n",
        "\n",
        "# cv2_imshow(result)\n",
        "    \n",
        "writer.release()\n",
        "vs.release()\n",
        "bar.finish()\n",
        "\n",
        "end = time.time()\n",
        "elap = (end - start)\n",
        "print(\"[INFO] process took {:.4f} seconds\".format(elap))\n",
        "\n",
        "print(\"Video created\")"
      ],
      "execution_count": 0,
      "outputs": []
    }
  ]
}